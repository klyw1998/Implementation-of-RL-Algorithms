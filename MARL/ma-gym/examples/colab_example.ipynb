{
 "nbformat": 4,
 "nbformat_minor": 0,
 "metadata": {
  "colab": {
   "provenance": []
  },
  "kernelspec": {
   "name": "python3",
   "display_name": "Python 3"
  },
  "language_info": {
   "name": "python"
  }
 },
 "cells": [
  {
   "cell_type": "markdown",
   "source": [
    "# **Dependency Setup**"
   ],
   "metadata": {
    "id": "7bic0d8YZt26"
   }
  },
  {
   "cell_type": "code",
   "execution_count": null,
   "metadata": {
    "colab": {
     "base_uri": "https://localhost:8080/"
    },
    "id": "Mgxn1Fw6ZAs7",
    "outputId": "c08fcc0c-612d-444a-f184-d869b788e675"
   },
   "outputs": [],
   "source": [
    "!pip install --root-user-action=ignore 'pip<=23.0.1'\n",
    "!pip install --root-user-action=ignore 'setuptools<=66'\n",
    "!pip install --root-user-action=ignore 'wheel<=0.38.4'\n",
    "!pip install --root-user-action=ignore ma-gym"
   ]
  },
  {
   "cell_type": "markdown",
   "source": [
    "# **Demo Run:**"
   ],
   "metadata": {
    "id": "tl0aaZuMbAEF"
   }
  },
  {
   "cell_type": "code",
   "source": [
    "import gym\n",
    "\n",
    "env = gym.make('ma_gym:Switch2-v0')\n",
    "done_n = [False for _ in range(env.n_agents)]\n",
    "ep_reward = 0\n",
    "\n",
    "obs_n = env.reset()\n",
    "while not all(done_n):\n",
    "    obs_n, reward_n, done_n, info = env.step(env.action_space.sample())\n",
    "    ep_reward += sum(reward_n)\n",
    "env.close()\n",
    "print(f'Episode Return:{ep_reward:.2f}')"
   ],
   "metadata": {
    "colab": {
     "base_uri": "https://localhost:8080/"
    },
    "id": "mEQ9X0cQZtmV",
    "outputId": "84fae668-a2f9-495b-d95f-0e40a77d0f24"
   },
   "execution_count": null,
   "outputs": []
  }
 ]
}
